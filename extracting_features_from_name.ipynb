{
 "cells": [
  {
   "cell_type": "code",
   "execution_count": 26,
   "metadata": {},
   "outputs": [],
   "source": [
    "import os\n",
    "import pandas as pd\n",
    "from datetime import datetime\n",
    "import numpy as np"
   ]
  },
  {
   "cell_type": "code",
   "execution_count": 2,
   "metadata": {},
   "outputs": [],
   "source": [
    "files = os.listdir(\"crop_part1\")"
   ]
  },
  {
   "cell_type": "code",
   "execution_count": 3,
   "metadata": {},
   "outputs": [],
   "source": [
    "data = {\"FileName\" : files}\n",
    "df_info = pd.DataFrame(data=data)"
   ]
  },
  {
   "cell_type": "code",
   "execution_count": 11,
   "metadata": {},
   "outputs": [],
   "source": [
    "df_info['Age'] = df_info.FileName.apply(lambda x : int(x.split('_')[0]))\n",
    "df_info['Gender'] = df_info.FileName.apply(lambda x : 'Male' if 0 == int(x.split('_')[1]) else 'Female')\n",
    "df_info['Race'] = df_info.FileName.apply(lambda x :x.split('_')[2] if len(x.split('_')[2]) == 1 else  None)\n",
    "df_info['DateTime'] = df_info.FileName.apply(lambda x :datetime.strptime(x.split('_')[-1].split('.')[0][:12],'%Y%m%d%H%M%S'))"
   ]
  },
  {
   "cell_type": "code",
   "execution_count": 12,
   "metadata": {},
   "outputs": [],
   "source": [
    "df_info.to_csv('ImageInfo.csv')"
   ]
  },
  {
   "cell_type": "code",
   "execution_count": 13,
   "metadata": {},
   "outputs": [
    {
     "data": {
      "text/html": [
       "<div>\n",
       "<style scoped>\n",
       "    .dataframe tbody tr th:only-of-type {\n",
       "        vertical-align: middle;\n",
       "    }\n",
       "\n",
       "    .dataframe tbody tr th {\n",
       "        vertical-align: top;\n",
       "    }\n",
       "\n",
       "    .dataframe thead th {\n",
       "        text-align: right;\n",
       "    }\n",
       "</style>\n",
       "<table border=\"1\" class=\"dataframe\">\n",
       "  <thead>\n",
       "    <tr style=\"text-align: right;\">\n",
       "      <th></th>\n",
       "      <th>FileName</th>\n",
       "      <th>Age</th>\n",
       "      <th>Gender</th>\n",
       "      <th>Race</th>\n",
       "      <th>DateTime</th>\n",
       "    </tr>\n",
       "  </thead>\n",
       "  <tbody>\n",
       "    <tr>\n",
       "      <th>1</th>\n",
       "      <td>100_1_0_20170110183726390.jpg.chip.jpg</td>\n",
       "      <td>100</td>\n",
       "      <td>Female</td>\n",
       "      <td>0</td>\n",
       "      <td>2017-01-10 18:03:07</td>\n",
       "    </tr>\n",
       "    <tr>\n",
       "      <th>2</th>\n",
       "      <td>100_1_2_20170105174847679.jpg.chip.jpg</td>\n",
       "      <td>100</td>\n",
       "      <td>Female</td>\n",
       "      <td>2</td>\n",
       "      <td>2017-01-05 17:04:08</td>\n",
       "    </tr>\n",
       "    <tr>\n",
       "      <th>3</th>\n",
       "      <td>101_1_2_20170105174739309.jpg.chip.jpg</td>\n",
       "      <td>101</td>\n",
       "      <td>Female</td>\n",
       "      <td>2</td>\n",
       "      <td>2017-01-05 17:04:07</td>\n",
       "    </tr>\n",
       "    <tr>\n",
       "      <th>4</th>\n",
       "      <td>10_0_0_20161220222308131.jpg.chip.jpg</td>\n",
       "      <td>10</td>\n",
       "      <td>Male</td>\n",
       "      <td>0</td>\n",
       "      <td>2016-12-20 22:02:03</td>\n",
       "    </tr>\n",
       "    <tr>\n",
       "      <th>5</th>\n",
       "      <td>10_0_0_20170103200329407.jpg.chip.jpg</td>\n",
       "      <td>10</td>\n",
       "      <td>Male</td>\n",
       "      <td>0</td>\n",
       "      <td>2017-01-03 20:00:03</td>\n",
       "    </tr>\n",
       "  </tbody>\n",
       "</table>\n",
       "</div>"
      ],
      "text/plain": [
       "                                 FileName  Age  Gender Race  \\\n",
       "1  100_1_0_20170110183726390.jpg.chip.jpg  100  Female    0   \n",
       "2  100_1_2_20170105174847679.jpg.chip.jpg  100  Female    2   \n",
       "3  101_1_2_20170105174739309.jpg.chip.jpg  101  Female    2   \n",
       "4   10_0_0_20161220222308131.jpg.chip.jpg   10    Male    0   \n",
       "5   10_0_0_20170103200329407.jpg.chip.jpg   10    Male    0   \n",
       "\n",
       "             DateTime  \n",
       "1 2017-01-10 18:03:07  \n",
       "2 2017-01-05 17:04:08  \n",
       "3 2017-01-05 17:04:07  \n",
       "4 2016-12-20 22:02:03  \n",
       "5 2017-01-03 20:00:03  "
      ]
     },
     "execution_count": 13,
     "metadata": {},
     "output_type": "execute_result"
    }
   ],
   "source": [
    "df_info.head()"
   ]
  },
  {
   "cell_type": "markdown",
   "metadata": {},
   "source": [
    "### metrics function"
   ]
  },
  {
   "cell_type": "code",
   "execution_count": 15,
   "metadata": {},
   "outputs": [],
   "source": [
    "def update_dataframe_with_clusters(cluster):\n",
    "    df_info['cluster'] = 0\n",
    "    for key in cluster:\n",
    "        df_info.loc[df_info.FileName.isin(test_dict[key]), 'cluster'] = key"
   ]
  },
  {
   "cell_type": "code",
   "execution_count": 16,
   "metadata": {},
   "outputs": [],
   "source": [
    "test_dict = {'c1' : list(df_info.FileName[:-100]), \n",
    "'c2' : list(df_info.FileName[:100])}"
   ]
  },
  {
   "cell_type": "code",
   "execution_count": 22,
   "metadata": {},
   "outputs": [],
   "source": [
    "update_dataframe_with_clusters(test_dict)"
   ]
  },
  {
   "cell_type": "markdown",
   "metadata": {},
   "source": [
    "Bar plot for ages for each cluster"
   ]
  },
  {
   "cell_type": "code",
   "execution_count": 23,
   "metadata": {},
   "outputs": [
    {
     "data": {
      "text/plain": [
       "<AxesSubplot:title={'center':'Age'}, xlabel='[cluster]'>"
      ]
     },
     "execution_count": 23,
     "metadata": {},
     "output_type": "execute_result"
    },
    {
     "data": {
      "image/png": "[encoded data removed]",
      "text/plain": [
       "<Figure size 432x288 with 1 Axes>"
      ]
     },
     "metadata": {
      "needs_background": "light"
     },
     "output_type": "display_data"
    }
   ],
   "source": [
    "df_info.boxplot(column=['Age'], by=['cluster'])"
   ]
  },
  {
   "cell_type": "markdown",
   "metadata": {},
   "source": [
    "Bar plot for genders for each found cluster"
   ]
  },
  {
   "cell_type": "code",
   "execution_count": 24,
   "metadata": {},
   "outputs": [],
   "source": [
    "df_gender_cluster = df_info.groupby(['cluster', 'Gender'])['Gender'].size().reset_index(name='counts')"
   ]
  },
  {
   "cell_type": "code",
   "execution_count": 25,
   "metadata": {},
   "outputs": [
    {
     "data": {
      "image/png": "[encoded data removed]",
      "text/plain": [
       "<Figure size 432x288 with 1 Axes>"
      ]
     },
     "metadata": {
      "needs_background": "light"
     },
     "output_type": "display_data"
    }
   ],
   "source": [
    "_  = pd.crosstab(df_info['cluster'],df_info['Gender']).plot.bar()"
   ]
  },
  {
   "cell_type": "markdown",
   "metadata": {},
   "source": [
    "Bar plot for race for each found cluster"
   ]
  },
  {
   "cell_type": "code",
   "execution_count": 200,
   "metadata": {},
   "outputs": [
    {
     "data": {
      "image/png": "[encoded data removed]",
      "text/plain": [
       "<Figure size 432x288 with 1 Axes>"
      ]
     },
     "metadata": {
      "needs_background": "light"
     },
     "output_type": "display_data"
    }
   ],
   "source": [
    "_  = pd.crosstab(df_info['cluster'],df_info['Race']).plot.bar()"
   ]
  },
  {
   "cell_type": "code",
   "execution_count": null,
   "metadata": {},
   "outputs": [],
   "source": []
  }
 ],
 "metadata": {
  "interpreter": {
   "hash": "a5315493b9f515b81fc88543f2c88d25f0ba82f5263e7df795d1df10052adda8"
  },
  "kernelspec": {
   "display_name": "Python 3 (ipykernel)",
   "language": "python",
   "name": "python3"
  },
  "language_info": {
   "codemirror_mode": {
    "name": "ipython",
    "version": 3
   },
   "file_extension": ".py",
   "mimetype": "text/x-python",
   "name": "python",
   "nbconvert_exporter": "python",
   "pygments_lexer": "ipython3",
   "version": "3.9.7"
  }
 },
 "nbformat": 4,
 "nbformat_minor": 4
}
